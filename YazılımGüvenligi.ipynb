{
  "nbformat": 4,
  "nbformat_minor": 0,
  "metadata": {
    "colab": {
      "name": "YazılımGüvenligi.ipynb",
      "provenance": [],
      "collapsed_sections": [],
      "include_colab_link": true
    },
    "kernelspec": {
      "name": "python3",
      "display_name": "Python 3"
    },
    "accelerator": "GPU"
  },
  "cells": [
    {
      "cell_type": "markdown",
      "metadata": {
        "id": "view-in-github",
        "colab_type": "text"
      },
      "source": [
        "<a href=\"https://colab.research.google.com/github/zehrabarann/Image-encryption/blob/main/Yaz%C4%B1l%C4%B1mG%C3%BCvenligi.ipynb\" target=\"_parent\"><img src=\"https://colab.research.google.com/assets/colab-badge.svg\" alt=\"Open In Colab\"/></a>"
      ]
    },
    {
      "cell_type": "code",
      "metadata": {
        "id": "i8y5YjzwURu1"
      },
      "source": [
        "import cv2\n",
        "import matplotlib.pyplot as plt\n",
        "import matplotlib.image as mpimg\n",
        "from PIL import Image\n",
        "import numpy as np\n",
        "import random\n",
        "import pandas as pd\n",
        "from ast import literal_eval "
      ],
      "execution_count": null,
      "outputs": []
    },
    {
      "cell_type": "code",
      "metadata": {
        "id": "UqwPDNvVyNjs"
      },
      "source": [
        "#DES_SBOX\n",
        "SBOX = [\n",
        "# Box-1\n",
        "[\n",
        "[14,4,13,1,2,15,11,8,3,10,6,12,5,9,0,7],\n",
        "[0,15,7,4,14,2,13,1,10,6,12,11,9,5,3,8],\n",
        "[4,1,14,8,13,6,2,11,15,12,9,7,3,10,5,0],\n",
        "[15,12,8,2,4,9,1,7,5,11,3,14,10,0,6,13]\n",
        "],\n",
        "# Box-2\n",
        "\n",
        "[\n",
        "[15,1,8,14,6,11,3,4,9,7,2,13,12,0,5,10],\n",
        "[3,13,4,7,15,2,8,14,12,0,1,10,6,9,11,5],\n",
        "[0,14,7,11,10,4,13,1,5,8,12,6,9,3,2,15],\n",
        "[13,8,10,1,3,15,4,2,11,6,7,12,0,5,14,9]\n",
        "],\n",
        "\n",
        "# Box-3\n",
        "\n",
        "[\n",
        "[10,0,9,14,6,3,15,5,1,13,12,7,11,4,2,8],\n",
        "[13,7,0,9,3,4,6,10,2,8,5,14,12,11,15,1],\n",
        "[13,6,4,9,8,15,3,0,11,1,2,12,5,10,14,7],\n",
        "[1,10,13,0,6,9,8,7,4,15,14,3,11,5,2,12]\n",
        "\n",
        "],\n",
        "\n",
        "# Box-4\n",
        "[\n",
        "[7,13,14,3,0,6,9,10,1,2,8,5,11,12,4,15],\n",
        "[13,8,11,5,6,15,0,3,4,7,2,12,1,10,14,9],\n",
        "[10,6,9,0,12,11,7,13,15,1,3,14,5,2,8,4],\n",
        "[3,15,0,6,10,1,13,8,9,4,5,11,12,7,2,14]\n",
        "],\n",
        "\n",
        "# Box-5\n",
        "[\n",
        "[2,12,4,1,7,10,11,6,8,5,3,15,13,0,14,9],\n",
        "[14,11,2,12,4,7,13,1,5,0,15,10,3,9,8,6],\n",
        "[4,2,1,11,10,13,7,8,15,9,12,5,6,3,0,14],\n",
        "[11,8,12,7,1,14,2,13,6,15,0,9,10,4,5,3]\n",
        "],\n",
        "# Box-6\n",
        "\n",
        "[\n",
        "[12,1,10,15,9,2,6,8,0,13,3,4,14,7,5,11],\n",
        "[10,15,4,2,7,12,9,5,6,1,13,14,0,11,3,8],\n",
        "[9,14,15,5,2,8,12,3,7,0,4,10,1,13,11,6],\n",
        "[4,3,2,12,9,5,15,10,11,14,1,7,6,0,8,13]\n",
        "\n",
        "],\n",
        "# Box-7\n",
        "[\n",
        "[4,11,2,14,15,0,8,13,3,12,9,7,5,10,6,1],\n",
        "[13,0,11,7,4,9,1,10,14,3,5,12,2,15,8,6],\n",
        "[1,4,11,13,12,3,7,14,10,15,6,8,0,5,9,2],\n",
        "[6,11,13,8,1,4,10,7,9,5,0,15,14,2,3,12]\n",
        "],\n",
        "# Box-8\n",
        "\n",
        "[\n",
        "[13,2,8,4,6,15,11,1,10,9,3,14,5,0,12,7],\n",
        "[1,15,13,8,10,3,7,4,12,5,6,11,0,14,9,2],\n",
        "[7,11,4,1,9,12,14,2,0,6,10,13,15,3,5,8],\n",
        "[2,1,14,7,4,10,8,13,15,12,9,0,3,5,6,11]\n",
        "]\n",
        "\n",
        "]\n"
      ],
      "execution_count": null,
      "outputs": []
    },
    {
      "cell_type": "code",
      "metadata": {
        "id": "3ET0kSlcfvn_"
      },
      "source": [
        "#AES SBOX\n",
        "aes_Sbox = [\n",
        "0x63,0x7c,0x77,0x7b,0xf2,0x6b,0x6f,0xc5,0x30,0x01,0x67,0x2b,0xfe,0xd7,0xab,0x76,\n",
        "0xca,0x82,0xc9,0x7d,0xfa,0x59,0x47,0xf0,0xad,0xd4,0xa2,0xaf,0x9c,0xa4,0x72,0xc0,\n",
        "0xb7,0xfd,0x93,0x26,0x36,0x3f,0xf7,0xcc,0x34,0xa5,0xe5,0xf1,0x71,0xd8,0x31,0x15,\n",
        "0x04,0xc7,0x23,0xc3,0x18,0x96,0x05,0x9a,0x07,0x12,0x80,0xe2,0xeb,0x27,0xb2,0x75,\n",
        "0x09,0x83,0x2c,0x1a,0x1b,0x6e,0x5a,0xa0,0x52,0x3b,0xd6,0xb3,0x29,0xe3,0x2f,0x84,\n",
        "0x53,0xd1,0x00,0xed,0x20,0xfc,0xb1,0x5b,0x6a,0xcb,0xbe,0x39,0x4a,0x4c,0x58,0xcf,\n",
        "0xd0,0xef,0xaa,0xfb,0x43,0x4d,0x33,0x85,0x45,0xf9,0x02,0x7f,0x50,0x3c,0x9f,0xa8,\n",
        "0x51,0xa3,0x40,0x8f,0x92,0x9d,0x38,0xf5,0xbc,0xb6,0xda,0x21,0x10,0xff,0xf3,0xd2,\n",
        "0xcd,0x0c,0x13,0xec,0x5f,0x97,0x44,0x17,0xc4,0xa7,0x7e,0x3d,0x64,0x5d,0x19,0x73,\n",
        "0x60,0x81,0x4f,0xdc,0x22,0x2a,0x90,0x88,0x46,0xee,0xb8,0x14,0xde,0x5e,0x0b,0xdb,\n",
        "0xe0,0x32,0x3a,0x0a,0x49,0x06,0x24,0x5c,0xc2,0xd3,0xac,0x62,0x91,0x95,0xe4,0x79,\n",
        "0xe7,0xc8,0x37,0x6d,0x8d,0xd5,0x4e,0xa9,0x6c,0x56,0xf4,0xea,0x65,0x7a,0xae,0x08,\n",
        "0xba,0x78,0x25,0x2e,0x1c,0xa6,0xb4,0xc6,0xe8,0xdd,0x74,0x1f,0x4b,0xbd,0x8b,0x8a,\n",
        "0x70,0x3e,0xb5,0x66,0x48,0x03,0xf6,0x0e,0x61,0x35,0x57,0xb9,0x86,0xc1,0x1d,0x9e,\n",
        "0xe1,0xf8,0x98,0x11,0x69,0xd9,0x8e,0x94,0x9b,0x1e,0x87,0xe9,0xce,0x55,0x28,0xdf,\n",
        "0x8c,0xa1,0x89,0x0d,0xbf,0xe6,0x42,0x68,0x41,0x99,0x2d,0x0f,0xb0,0x54,0xbb,0x16 ]"
      ],
      "execution_count": null,
      "outputs": []
    },
    {
      "cell_type": "code",
      "metadata": {
        "id": "fQZuQG79Oi34"
      },
      "source": [
        "#DES permütasyon tablosu\n",
        "INITIAL_PERMUTATION_TABLE = [58,50,42,34,26,18,10,2,\n",
        "\t\t\t 60,52,44,36,28,20,12,4,\n",
        "\t\t\t 62,54,46,38,30,22,14,6, \n",
        "\t\t\t 64,56,48,40,32,24,16,8, \n",
        "\t\t\t 57,49,41,33,25,17,9,1,\n",
        "\t\t\t 59,51,43,35,27,19,11,3,\n",
        "\t\t\t 61,53,45,37,29,21,13,5,\n",
        "\t\t\t 63,55,47,39,31,23,15,7]\n"
      ],
      "execution_count": null,
      "outputs": []
    },
    {
      "cell_type": "code",
      "metadata": {
        "id": "pZON5wUBy_Xv"
      },
      "source": [
        "#des s box değeri 4x16lık bir matris. İşlem yapabilmek için matrisin transpozunuu alıp 16x4'lük bir matri elde edilmesi gerekmektedir.\n",
        "#Daha sonra bu değerler yan yana eklenir.\n",
        "def transpozeDesSbox():\n",
        "  SBOX_array = []\n",
        "  des_Sboxes = []\n",
        "  for item in SBOX:\n",
        "    SBOX_array.append(np.array(item).T)\n",
        "  # desSboxları birleştirip (16,32) array oluşturma\n",
        "  des_Sboxes = np.append(SBOX_array[0], np.append(SBOX_array[1], np.append(SBOX_array[2], \n",
        "                                                                          np.append(SBOX_array[3],np.append( SBOX_array[4], \n",
        "                                                                                                            np.append(SBOX_array[5], np.append(SBOX_array[6], SBOX_array[7], axis=1) ,axis=1) ,axis=1),axis=1) ,axis = 1) ,axis=1), axis=1)\n",
        "  return des_Sboxes"
      ],
      "execution_count": null,
      "outputs": []
    },
    {
      "cell_type": "code",
      "metadata": {
        "id": "NBDBi8JpfTSA"
      },
      "source": [
        "#AES sbox tablosunun sütunları a değeri ile seçilen sütunun değerine göre permüte edilir.\n",
        "#Boş bir array oluşturulup değiştirilen değerler oraya atılır. \n",
        "def columnMix(a,aes_Sbox):\n",
        "  copyAes = np.array(aes_Sbox)\n",
        "  for i,item in enumerate(a):\n",
        "    copyAes[:,i] = np.array(aes_Sbox[:,item])\n",
        "    copyAes[:,item] = np.array(aes_Sbox[:,i])\n",
        "    \n",
        "  return copyAes"
      ],
      "execution_count": null,
      "outputs": []
    },
    {
      "cell_type": "code",
      "metadata": {
        "id": "biO4uA2aQZRe"
      },
      "source": [
        ""
      ],
      "execution_count": null,
      "outputs": []
    },
    {
      "cell_type": "code",
      "metadata": {
        "id": "t5xkRkm8fX18"
      },
      "source": [
        "#AES sbox tablosunun satırları b değeri ile seçilen sütunun değerine göre permüte edilir.\n",
        "#BOş bir array oluşturulup değerler oraya atanır.\n",
        "def rowMix(b,aes_Sbox):\n",
        "  copyAes = np.array(aes_Sbox)\n",
        "  for i,item in enumerate(b):\n",
        "    copyAes[i,:] = np.array(aes_Sbox[item,:])\n",
        "    copyAes[item,:] = np.array(aes_Sbox[i,:])\n",
        "  \n",
        "  return copyAes"
      ],
      "execution_count": null,
      "outputs": []
    },
    {
      "cell_type": "code",
      "metadata": {
        "id": "XAW2j3cBgDcb"
      },
      "source": [
        "#Random olarak değeri 1-32 arasındaa değişen değerler üretilir ve bunlar a ve be değişkenlerine atanır.\n",
        "#Daha sonra bu değerler aes satır ve sütununu karmak için kullanılacaktır.\n",
        "def generateRandomKey():\n",
        "  degisken = random.randint(0,31)\n",
        "  a  = des_Sboxes[:, degisken]\n",
        "  degisken1 = random.randint(0,31)\n",
        "  b  = des_Sboxes[:, degisken1]\n",
        "  return a,b\n"
      ],
      "execution_count": null,
      "outputs": []
    },
    {
      "cell_type": "code",
      "metadata": {
        "id": "XzHskC0hfZXF"
      },
      "source": [
        "#Çok boyutlu dizi tek boyutlu diziye dönüştürülürken okuma işlemi yapmak için Diagonal Order okuma işlemi kullanılmıştır.\n",
        "def diagonalOrder(matrix,ROW,COL) :\n",
        "  \n",
        "  returnArry = [] \n",
        "\n",
        "  if(matrix.ndim == 3):\n",
        "    matrix = matrix.reshape(matrix.shape[0], matrix.shape[1] * matrix.shape[2])\n",
        "\n",
        "  for line in range(1, (ROW + COL)) : \n",
        "\t\t\n",
        "\t  start_col = max(0, line - ROW) \n",
        "\t  count = min(line, (COL - start_col), ROW) \n",
        " \n",
        "\t  for j in range(0, count) : \n",
        "\t\t  returnArry.append((matrix[min(ROW, line) - j - 1] [start_col + j]))\n",
        "  \n",
        "  return returnArry"
      ],
      "execution_count": null,
      "outputs": []
    },
    {
      "cell_type": "code",
      "metadata": {
        "id": "lOUsuILGffdg"
      },
      "source": [
        "#xor işlemini yapabilmek için bütün değerlerin aynı tabanda olması gerekir. \n",
        "#16lık taban ile 10luk taban xorlanmaya çalışılıyor bu yüzden array 10luk tabana çevrilmelidir.\n",
        "#convert hex to decimal in aes\n",
        "def to_int_list(hex_array):\n",
        "    hex_str = ''.join(hex_array)\n",
        "    value = int(hex_str, 16)\n",
        "    i = 4*len(hex_str) - 1\n",
        "    aes_Sbox = []\n",
        "    while value:\n",
        "        if value & 1:\n",
        "            aes_Sbox.append(i)\n",
        "        value = value >> 1\n",
        "        i -= 1\n",
        "    return aes_Sbox[::-1]\n",
        "print(aes_Sbox)"
      ],
      "execution_count": null,
      "outputs": []
    },
    {
      "cell_type": "code",
      "metadata": {
        "id": "alnUYJHFgoyX"
      },
      "source": [
        "def eksikPixelDoldurma(image):\n",
        "  #Rastgele olusturulan 256 deger\n",
        "  #Eksik olan piksel değerleri eklenir.\n",
        "  if(img != 0):\n",
        "    randomNumberArry = []\n",
        "    i = 0\n",
        "    for i in range(0,(256-img)):\n",
        "      rnd = random.randint(0,256)\n",
        "      randomNumberArry.append(rnd)\n",
        "\n",
        "    randomNumberArry = np.array(randomNumberArry)\n",
        "\n",
        "    image = np.append(image,randomNumberArry)\n",
        "\n",
        "    return image"
      ],
      "execution_count": null,
      "outputs": []
    },
    {
      "cell_type": "code",
      "metadata": {
        "id": "5KryHw6Vyfrd"
      },
      "source": [
        "def Encrypt(image,IV):\n",
        "  for index,img in enumerate(image):\n",
        "    cipherImg = np.bitwise_xor(IV, img) # Giriş vektörü ile image in 256 lık bloğunun xorlanması\n",
        "    for i in range(0,8): \n",
        "      Aes_Sbox = np.asarray(aes_Sbox)\n",
        "      Aes_Sbox = np.array(Aes_Sbox).reshape(16,16)\n",
        "      a,b = generateRandomKey() #a ve b yi oluşturmak için\n",
        "      Aes_Sbox = columnMix(a,Aes_Sbox) # aes sbox karılır.\n",
        "      #cipherImg = np.bitwise_xor(aes_Sbox,cipherImg)  \n",
        "      cipherImg = np.bitwise_xor(Aes_Sbox.reshape(256,),cipherImg) \n",
        "      key1 = np.array(random.sample(range(0, 256), 256)) #256 adet değeri 0-255 arası değişen anahtar değeri üretilir.\n",
        "      cipherImg = np.bitwise_xor(key1,cipherImg) #Üretilen anahtar ile şifreli resim xor lanır.\n",
        "      Aes_Sbox = rowMix(b,Aes_Sbox) #aes sbox karılır.\n",
        "      cipherImg = np.bitwise_xor(Aes_Sbox.reshape(256,),cipherImg)\n",
        "      key2 = np.array(random.sample(range(0, 256), 256)) #256 adet değeri 0-255 arası değişen anahtar değeri üretilir.\n",
        "      cipherImg = np.bitwise_xor(key2,cipherImg)  #Üretilen anahtar ile şifreli resim xor lanır.\n",
        "      cipherImg = cipherImg.reshape(4,64)\n",
        "      cipherImg[i%4] = np.array(list(map(lambda x: cipherImg[i%4][x-1], INITIAL_PERMUTATION_TABLE ))) #mod 4'e göre işlem yapılır. Mod 4 olmasının sebebi 64 bit olmasıdır.\n",
        "      #Des sbox tablosunu permüte edilebilmek için map fonksiyonu kullanılmıştır. Bu fonksiyon değerleri kendi içerisinde karabilir.\n",
        "      cipherImg = cipherImg.reshape(256,)\n",
        "      image[index] = cipherImg\n",
        "    IV = cipherImg #üretilen değer yeni başlangıç vektörü olur.\n",
        "  return image "
      ],
      "execution_count": null,
      "outputs": []
    },
    {
      "cell_type": "code",
      "metadata": {
        "id": "g35BGXGP8l2Q"
      },
      "source": [
        "image = cv2.imread('/content/ayder-yaylasi.jpg') #resim okunur"
      ],
      "execution_count": null,
      "outputs": []
    },
    {
      "cell_type": "code",
      "metadata": {
        "id": "uz5U7yesvHgG"
      },
      "source": [
        "image = np.array(diagonalOrder(image,image.shape[0],image.shape[1])) #tek boyutlu array haline getiriyor"
      ],
      "execution_count": null,
      "outputs": []
    },
    {
      "cell_type": "code",
      "metadata": {
        "id": "f-hMi6U15-iy"
      },
      "source": [
        "img = image.shape[0] % 256 #dizi piksel değeri bulunur."
      ],
      "execution_count": null,
      "outputs": []
    },
    {
      "cell_type": "code",
      "metadata": {
        "id": "OsDJcQRWPvUA"
      },
      "source": [
        "image = eksikPixelDoldurma(image) #Eğer tam sonuç çıkmıyorsa eksik değerler eklenmelidir. Bu işlem için fonksiyona gidilir"
      ],
      "execution_count": null,
      "outputs": []
    },
    {
      "cell_type": "code",
      "metadata": {
        "id": "hkEt1fWp-_lh"
      },
      "source": [
        "image = image.reshape((int)(image.size/256),256) #256lık blocklara bölünüyor. 2 boyutlu matris"
      ],
      "execution_count": null,
      "outputs": []
    },
    {
      "cell_type": "code",
      "metadata": {
        "id": "3vvDMEJkoK7I"
      },
      "source": [
        "des_Sboxes = transpozeDesSbox()"
      ],
      "execution_count": null,
      "outputs": []
    },
    {
      "cell_type": "code",
      "metadata": {
        "id": "ipaFWLGMIdC9"
      },
      "source": [
        "aes_Sbox = np.asarray(aes_Sbox)"
      ],
      "execution_count": null,
      "outputs": []
    },
    {
      "cell_type": "code",
      "metadata": {
        "id": "V8yNwERIYBo2"
      },
      "source": [
        "#256 adet değerleri 0-255 arasında değişen bir başlangıç vektörü üretilir.\n",
        "IV = []  \n",
        "for i in range(0,256):\n",
        " IV.append(random.randint(0,256))  # Giriş vektörü elde etme\n",
        " \n",
        "IV = np.array(IV)"
      ],
      "execution_count": null,
      "outputs": []
    },
    {
      "cell_type": "code",
      "metadata": {
        "id": "S4KiM9l7pXyL"
      },
      "source": [
        "#Fonksiyon çağırımı\n",
        "encrytpImage = Encrypt(image,IV)\n"
      ],
      "execution_count": null,
      "outputs": []
    }
  ]
}